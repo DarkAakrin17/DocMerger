{
 "cells": [
  {
   "cell_type": "code",
   "execution_count": 2,
   "id": "6e61d868-0376-42b4-b32b-144fd9473b80",
   "metadata": {},
   "outputs": [
    {
     "name": "stdout",
     "output_type": "stream",
     "text": [
      "Collecting pypdf2\n",
      "  Downloading pypdf2-3.0.1-py3-none-any.whl.metadata (6.8 kB)\n",
      "Downloading pypdf2-3.0.1-py3-none-any.whl (232 kB)\n",
      "Installing collected packages: pypdf2\n",
      "Successfully installed pypdf2-3.0.1\n",
      "\n",
      "\u001b[1m[\u001b[0m\u001b[34;49mnotice\u001b[0m\u001b[1;39;49m]\u001b[0m\u001b[39;49m A new release of pip is available: \u001b[0m\u001b[31;49m25.0.1\u001b[0m\u001b[39;49m -> \u001b[0m\u001b[32;49m25.2\u001b[0m\n",
      "\u001b[1m[\u001b[0m\u001b[34;49mnotice\u001b[0m\u001b[1;39;49m]\u001b[0m\u001b[39;49m To update, run: \u001b[0m\u001b[32;49mpip install --upgrade pip\u001b[0m\n",
      "Note: you may need to restart the kernel to use updated packages.\n"
     ]
    }
   ],
   "source": [
    "pip install pypdf2"
   ]
  },
  {
   "cell_type": "code",
   "execution_count": 4,
   "id": "5f85a3f5-5868-4a14-8e42-6d57d6613c70",
   "metadata": {},
   "outputs": [
    {
     "name": "stdout",
     "output_type": "stream",
     "text": [
      "Converting /Users/aakash/Documents/Tensor flow/mod2/1. Autoencoders.pptx to PDF...\n",
      "convert /Users/aakash/Documents/Tensor flow/mod2/1. Autoencoders.pptx as a Impress document -> /private/var/folders/mh/xw8j2trs77j8rwckd2hd83r40000gn/T/tmp2jwa578h/1. Autoencoders.pdf using filter : impress_pdf_Export\n",
      "Merging 9 PDFs...\n",
      "Merged PDF saved as: /Users/aakash/Documents/Tensor flow/mod2/merged_output.pdf\n"
     ]
    }
   ],
   "source": [
    "import os\n",
    "import subprocess\n",
    "import tempfile\n",
    "from PyPDF2 import PdfMerger\n",
    "import shutil\n",
    "\n",
    "def is_soffice_available():\n",
    "    return shutil.which(\"soffice\") is not None\n",
    "\n",
    "def convert_pptx_to_pdf(pptx_path, output_dir):\n",
    "    \"\"\"Convert PPTX to PDF using LibreOffice CLI.\"\"\"\n",
    "    subprocess.run([\n",
    "        \"soffice\",\n",
    "        \"--headless\",\n",
    "        \"--convert-to\", \"pdf\",\n",
    "        \"--outdir\", output_dir,\n",
    "        pptx_path\n",
    "    ], check=True)\n",
    "    \n",
    "    base_name = os.path.splitext(os.path.basename(pptx_path))[0]\n",
    "    return os.path.join(output_dir, base_name + '.pdf')\n",
    "\n",
    "def merge_pdfs(pdf_files, output_path):\n",
    "    merger = PdfMerger()\n",
    "    for pdf in pdf_files:\n",
    "        merger.append(pdf)\n",
    "    merger.write(output_path)\n",
    "    merger.close()\n",
    "    print(f\"Merged PDF saved as: {output_path}\")\n",
    "\n",
    "def main():\n",
    "    if not is_soffice_available():\n",
    "        print(\"LibreOffice's 'soffice' command not found. Please install LibreOffice and ensure 'soffice' is in your PATH.\")\n",
    "        return\n",
    "\n",
    "    folder_path = '/Users/aakash/Documents/Tensor flow/mod2'  # or set your folder here\n",
    "    pdf_files = [os.path.join(folder_path, f) for f in os.listdir(folder_path) if f.lower().endswith('.pdf')]\n",
    "    pptx_files = [os.path.join(folder_path, f) for f in os.listdir(folder_path) if f.lower().endswith('.pptx')]\n",
    "    \n",
    "    with tempfile.TemporaryDirectory() as temp_dir:\n",
    "        converted_pdfs = []\n",
    "        for pptx in pptx_files:\n",
    "            print(f\"Converting {pptx} to PDF...\")\n",
    "            pdf_path = convert_pptx_to_pdf(pptx, temp_dir)\n",
    "            converted_pdfs.append(pdf_path)\n",
    "\n",
    "        all_pdfs = pdf_files + converted_pdfs\n",
    "        if not all_pdfs:\n",
    "            print(\"No PDF or PPTX files found to merge.\")\n",
    "            return\n",
    "        \n",
    "        print(f\"Merging {len(all_pdfs)} PDFs...\")\n",
    "        merge_pdfs(all_pdfs, os.path.join(folder_path, \"merged_output.pdf\"))\n",
    "\n",
    "if __name__ == \"__main__\":\n",
    "    main()\n"
   ]
  },
  {
   "cell_type": "code",
   "execution_count": null,
   "id": "353cf9ca-ed02-42c3-9eac-088b4332252f",
   "metadata": {},
   "outputs": [],
   "source": []
  }
 ],
 "metadata": {
  "kernelspec": {
   "display_name": "Python 3 (ipykernel)",
   "language": "python",
   "name": "python3"
  },
  "language_info": {
   "codemirror_mode": {
    "name": "ipython",
    "version": 3
   },
   "file_extension": ".py",
   "mimetype": "text/x-python",
   "name": "python",
   "nbconvert_exporter": "python",
   "pygments_lexer": "ipython3",
   "version": "3.12.4"
  }
 },
 "nbformat": 4,
 "nbformat_minor": 5
}
